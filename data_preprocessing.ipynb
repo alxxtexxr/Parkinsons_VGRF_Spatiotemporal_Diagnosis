{
 "cells": [
  {
   "cell_type": "markdown",
   "metadata": {},
   "source": [
    "# Libraries"
   ]
  },
  {
   "cell_type": "code",
   "execution_count": 1,
   "metadata": {},
   "outputs": [],
   "source": [
    "import os\n",
    "import glob\n",
    "import itertools\n",
    "import random\n",
    "import math\n",
    "import torch\n",
    "import numpy as np\n",
    "import pandas as pd\n",
    "from sklearn.model_selection import StratifiedShuffleSplit, LeaveOneOut\n",
    "from sklearn.preprocessing import MinMaxScaler\n",
    "from torch.utils.data import Dataset\n",
    "\n",
    "from src.utils import set_seed, print_h, check_dataset_info, get_vgrf_window_data"
   ]
  },
  {
   "cell_type": "markdown",
   "metadata": {},
   "source": [
    "# Config"
   ]
  },
  {
   "cell_type": "code",
   "execution_count": null,
   "metadata": {},
   "outputs": [],
   "source": [
    "seed = 69\n",
    "set_seed(seed)\n",
    "\n",
    "data_dir = 'data'\n",
    "vgrf_data_dir = data_dir + '/gait-in-parkinsons-disease-1.0.0'\n",
    "demographics_data_path = vgrf_data_dir + '/demographics.xls'\n",
    "\n",
    "n_feat = 16\n",
    "window_size = 500\n",
    "stride_size = 250\n",
    "min_vgrf_data_len = (5-1)*stride_size + window_size\n",
    "max_vgrf_data_len = 25_000\n",
    "n_class = 4\n",
    "k_fold = 10\n",
    "test_person_split = 0.15\n",
    "test_window_split = 0.15\n",
    "val_person = True"
   ]
  },
  {
   "cell_type": "code",
   "execution_count": null,
   "metadata": {},
   "outputs": [],
   "source": []
  }
 ],
 "metadata": {
  "kernelspec": {
   "display_name": "alxxtexxr_py312",
   "language": "python",
   "name": "python3"
  },
  "language_info": {
   "codemirror_mode": {
    "name": "ipython",
    "version": 3
   },
   "file_extension": ".py",
   "mimetype": "text/x-python",
   "name": "python",
   "nbconvert_exporter": "python",
   "pygments_lexer": "ipython3",
   "version": "3.12.4"
  }
 },
 "nbformat": 4,
 "nbformat_minor": 2
}
