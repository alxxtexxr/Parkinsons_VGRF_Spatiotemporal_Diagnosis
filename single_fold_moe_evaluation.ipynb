{
 "cells": [
  {
   "cell_type": "markdown",
   "metadata": {},
   "source": [
    "# Libraries"
   ]
  },
  {
   "cell_type": "code",
   "execution_count": 1,
   "metadata": {},
   "outputs": [
    {
     "name": "stderr",
     "output_type": "stream",
     "text": [
      "/home/mitlab/miniconda3/envs/alxxtexxr_py312_torch22/lib/python3.12/site-packages/tqdm/auto.py:21: TqdmWarning: IProgress not found. Please update jupyter and ipywidgets. See https://ipywidgets.readthedocs.io/en/stable/user_install.html\n",
      "  from .autonotebook import tqdm as notebook_tqdm\n"
     ]
    }
   ],
   "source": [
    "import os\n",
    "import numpy as np\n",
    "import torch\n",
    "from torch.utils.data import TensorDataset, DataLoader\n",
    "from pprint import pprint\n",
    "\n",
    "from src.utils import (\n",
    "    # Old utils\n",
    "    print_h, eval_window, eval_person_majority_voting,\n",
    "\n",
    "    # New utils\n",
    "    set_seed, get_device, init_model, init_metrics, update_metrics, save_metrics_to_json,\n",
    "    plot_k_fold_roc_curves_multiclass_v2, plot_k_fold_cm,\n",
    ")\n",
    "from src.models import HardMoE"
   ]
  },
  {
   "cell_type": "markdown",
   "metadata": {},
   "source": [
    "# Config"
   ]
  },
  {
   "cell_type": "code",
   "execution_count": 2,
   "metadata": {},
   "outputs": [
    {
     "name": "stderr",
     "output_type": "stream",
     "text": [
      "2025-06-02 23:13:15.535535: E external/local_xla/xla/stream_executor/cuda/cuda_fft.cc:485] Unable to register cuFFT factory: Attempting to register factory for plugin cuFFT when one has already been registered\n",
      "2025-06-02 23:13:15.554853: E external/local_xla/xla/stream_executor/cuda/cuda_dnn.cc:8454] Unable to register cuDNN factory: Attempting to register factory for plugin cuDNN when one has already been registered\n",
      "2025-06-02 23:13:15.560716: E external/local_xla/xla/stream_executor/cuda/cuda_blas.cc:1452] Unable to register cuBLAS factory: Attempting to register factory for plugin cuBLAS when one has already been registered\n",
      "2025-06-02 23:13:15.575118: I tensorflow/core/platform/cpu_feature_guard.cc:210] This TensorFlow binary is optimized to use available CPU instructions in performance-critical operations.\n",
      "To enable the following instructions: AVX2 FMA, in other operations, rebuild TensorFlow with the appropriate compiler flags.\n",
      "2025-06-02 23:13:16.494299: W tensorflow/compiler/tf2tensorrt/utils/py_utils.cc:38] TF-TRT Warning: Could not find TensorRT\n"
     ]
    },
    {
     "name": "stdout",
     "output_type": "stream",
     "text": [
      "Random seed: 69\n",
      "Device: cuda\n",
      "Expert model name: RNNInceptionTime\n",
      "Expert model bidirectional: True\n",
      "Fold number: 6\n",
      "Gate model name tag: MLPGate_l2\n",
      "Gate model name: MLP\n",
      "Gate model bidirectional: False\n",
      "MoE model name tag: RNNInceptionTimeMoE_bidirectional_MLPGate_l2\n",
      "Evaluation general metrics save directory: evaluations/RNNInceptionTimeMoE_bidirectional_MLPGate_l2_Ga_k10_w500_s500_Ju_k10_w500_s500_w_anomaly_Si_k10_w500_s250_w_anomaly_fold_06_e20/_general_metrics\n",
      "Evaluation confusion matrix save directory: evaluations/RNNInceptionTimeMoE_bidirectional_MLPGate_l2_Ga_k10_w500_s500_Ju_k10_w500_s500_w_anomaly_Si_k10_w500_s250_w_anomaly_fold_06_e20/cm\n",
      "Evaluation ROC curves save directory: evaluations/RNNInceptionTimeMoE_bidirectional_MLPGate_l2_Ga_k10_w500_s500_Ju_k10_w500_s500_w_anomaly_Si_k10_w500_s250_w_anomaly_fold_06_e20/roc_curves\n"
     ]
    }
   ],
   "source": [
    "# Project config\n",
    "seed = 69\n",
    "set_seed(seed)\n",
    "device = get_device()\n",
    "print(\"Device:\", device)\n",
    "\n",
    "# Model config\n",
    "expert_model_path_map = {\n",
    "    'Ga': 'checkpoints/RNNInceptionTime_bidirectional_Ga_k10_w500_s500_e20_v20250520224322/fold_06.pth',\n",
    "    'Ju': 'checkpoints/RNNInceptionTime_bidirectional_Ju_k10_w500_s500_w_anomaly_e5_v20250529001340/fold_06.pth',\n",
    "    'Si': 'checkpoints/RNNInceptionTime_bidirectional_Si_k10_w500_s250_w_anomaly_e30_v20250529213629/fold_06.pth',\n",
    "}\n",
    "\n",
    "# Get model names and parameters\n",
    "expert_names = [expert_model_dir.split('/')[-2].split('_'+study)[0] for study, expert_model_dir in expert_model_path_map.items()]\n",
    "assert len(set(expert_names)) == 1, f\"Expert model names are inconsistent: {expert_names}\"\n",
    "expert_name = expert_names[0]\n",
    "if 'bidirectional' in expert_name:\n",
    "    expert_name = expert_name.replace('_bidirectional', '')\n",
    "    expert_bidirectional = True\n",
    "else:\n",
    "    expert_bidirectional = False\n",
    "print(\"Expert model name:\", expert_name)\n",
    "print(\"Expert model bidirectional:\", expert_bidirectional)\n",
    "\n",
    "# gate_model_path = 'checkpoints/RNNInceptionTimeGate_bidirectional_Ga_k10_w500_s500_Ju_k10_w500_s500_w_anomaly_Si_k10_w500_s250_w_anomaly_e100_v20250531134858/fold_06.pth' # RNN-InceptionTime\n",
    "gate_model_path = 'checkpoints/MLPGate_l2_Ga_k10_w500_s500_Ju_k10_w500_s500_w_anomaly_Si_k10_w500_s250_w_anomaly_fold_06_e20_v20250602215409/fold_06.pth' # MLP\n",
    "\n",
    "gate_layers = [500, 500]\n",
    "gate_ps = [0.1, 0.2]\n",
    "\n",
    "# Data config\n",
    "fold_i_dir_map = {\n",
    "    'Ga': f'data/preprocessed/Ga_k10_w500_s500_v20250501004633/fold_06',\n",
    "    'Ju': f'data/preprocessed/Ju_k10_w500_s500_w_anomaly_v20250501004735/fold_06',\n",
    "    'Si': f'data/preprocessed/Si_k10_w500_s250_w_anomaly_v20250501004847/fold_06',\n",
    "}\n",
    "\n",
    "# Get fold number\n",
    "i_folds_data = [int(fold_i_dir.split('fold_')[-1]) for fold_i_dir in fold_i_dir_map.values()]\n",
    "i_folds_checkpoints = [int(expert_model_path.split('fold_')[-1].replace('.pth', '')) for expert_model_path in expert_model_path_map.values()]\n",
    "i_folds = i_folds_data + i_folds_checkpoints\n",
    "assert len(set(i_folds)) == 1, f\"Fold numbers are inconsistent: {({'data': i_folds_data, 'checkpoints': i_folds_checkpoints})}\"\n",
    "i_fold = i_folds[0]\n",
    "print(\"Fold number:\", i_fold)\n",
    "\n",
    "# Evaluation config\n",
    "k_fold = 10\n",
    "batch_size = 8\n",
    "n_feat = 16\n",
    "n_class = 4\n",
    "window_size = 500\n",
    "max_vgrf_data_len = 25_000\n",
    "\n",
    "gate_name_tag = gate_model_path.rsplit('/')[-2].split('_Ga')[0]\n",
    "gate_name = gate_name_tag.split('Gate')[0]\n",
    "gate_bidirectional = 'bidirectional' in gate_name_tag\n",
    "print(\"Gate model name tag:\", gate_name_tag)\n",
    "print(\"Gate model name:\", gate_name)\n",
    "print(\"Gate model bidirectional:\", gate_bidirectional)\n",
    "\n",
    "moe_name_tag = f'{expert_name}MoE{'_bidirectional' if expert_bidirectional else ''}{f'_{gate_name_tag}' if gate_name != expert_name else ''}'\n",
    "print(\"MoE model name tag:\", moe_name_tag)\n",
    "\n",
    "general_metrics_dir = f'evaluations/{moe_name_tag}' + gate_model_path.rsplit(gate_name_tag)[-1].split('_v')[0] + '/_general_metrics'\n",
    "cm_dir = f'evaluations/{moe_name_tag}' + gate_model_path.rsplit(gate_name_tag)[-1].split('_v')[0] + '/cm'\n",
    "roc_curves_dir = f'evaluations/{moe_name_tag}' + gate_model_path.rsplit(gate_name_tag)[-1].split('_v')[0] + '/roc_curves'\n",
    "\n",
    "print(\"Evaluation general metrics save directory:\", general_metrics_dir)\n",
    "print(\"Evaluation confusion matrix save directory:\", cm_dir)\n",
    "print(\"Evaluation ROC curves save directory:\", roc_curves_dir)"
   ]
  },
  {
   "cell_type": "code",
   "execution_count": 3,
   "metadata": {},
   "outputs": [
    {
     "name": "stdout",
     "output_type": "stream",
     "text": [
      "================================================================================================================================\n",
      "                                                             FOLD 6                                                             \n",
      "================================================================================================================================\n",
      "================================================================================================\n",
      "                                        EXPERT-Ga MODEL                                         \n",
      "================================================================================================\n",
      "================================================================\n",
      "          EVALUATION ON PERSON DATA BY MAJORITY VOTING          \n",
      "================================================================\n",
      "Random seed: 69\n",
      "\n",
      "acc: 1.0\n",
      "f1: 1.0\n",
      "precision: 1.0\n",
      "recall: 1.0\n",
      "cm:\n",
      " [[5 0 0 0]\n",
      " [0 6 0 0]\n",
      " [0 0 3 0]\n",
      " [0 0 0 2]]\n",
      "\n",
      "================================================================================================\n",
      "                                        EXPERT-Ju MODEL                                         \n",
      "================================================================================================\n",
      "================================================================\n",
      "          EVALUATION ON PERSON DATA BY MAJORITY VOTING          \n",
      "================================================================\n",
      "Random seed: 69\n",
      "\n",
      "acc: 1.0\n",
      "f1: 1.0\n",
      "precision: 1.0\n",
      "recall: 1.0\n",
      "cm:\n",
      " [[3 0 0 0]\n",
      " [0 4 0 0]\n",
      " [0 0 7 0]\n",
      " [0 0 0 1]]\n",
      "\n",
      "================================================================================================\n",
      "                                        EXPERT-Si MODEL                                         \n",
      "================================================================================================\n",
      "================================================================\n",
      "          EVALUATION ON PERSON DATA BY MAJORITY VOTING          \n",
      "================================================================\n",
      "Random seed: 69\n",
      "\n",
      "acc: 0.8888888888888888\n",
      "f1: 0.8871252204585538\n",
      "precision: 0.911111111111111\n",
      "recall: 0.8888888888888888\n",
      "cm:\n",
      " [[4 0 0 0]\n",
      " [1 3 0 0]\n",
      " [0 0 1 0]\n",
      " [0 0 0 0]]\n",
      "\n",
      "================================================================================================\n",
      "                                           GATE MODEL                                           \n",
      "================================================================================================\n",
      "================================================================\n",
      "                   EVALUATION ON WINDOW DATA                    \n",
      "================================================================\n",
      "acc: 0.947190250507786\n",
      "f1: 0.9468605256091722\n",
      "precision: 0.9482908486352515\n",
      "recall: 0.947190250507786\n",
      "cm:\n",
      " [[404   4  38]\n",
      " [ 15 314  14]\n",
      " [  2   5 681]]\n",
      "\n",
      "================================================================================================\n",
      "                                           MoE MODEL                                            \n",
      "================================================================================================\n",
      "================================================================\n",
      "          EVALUATION ON PERSON DATA BY MAJORITY VOTING          \n",
      "================================================================\n",
      "Random seed: 69\n",
      "\n",
      "acc: 0.975\n",
      "f1: 0.9750370370370369\n",
      "precision: 0.976923076923077\n",
      "recall: 0.975\n",
      "cm:\n",
      " [[12  0  0  0]\n",
      " [ 1 13  0  0]\n",
      " [ 0  0 11  0]\n",
      " [ 0  0  0  3]]\n",
      "\n"
     ]
    }
   ],
   "source": [
    "moe_metrics = init_metrics(['acc', 'f1', 'precision', 'recall', 'cm', \n",
    "                            'fpr_multiclass_list', 'tpr_multiclass_list', 'roc_auc_multiclass_list', 'roc_auc_multiclass_avg'])\n",
    "gate_metrics = init_metrics(['acc', 'f1', 'precision', 'recall', 'cm'])\n",
    "expert_metrics = {\n",
    "    'Ga': init_metrics(['acc', 'f1', 'precision', 'recall', 'cm']),\n",
    "    'Ju': init_metrics(['acc', 'f1', 'precision', 'recall', 'cm']),\n",
    "    'Si': init_metrics(['acc', 'f1', 'precision', 'recall', 'cm']),\n",
    "}\n",
    "\n",
    "study_label_map = {\n",
    "    'Ga': 0,\n",
    "    'Ju': 1,\n",
    "    'Si': 2,\n",
    "}\n",
    "\n",
    "print_h(f\"FOLD {i_fold}\", 128)\n",
    "\n",
    "expert_model_map = {\n",
    "    'Ga': init_model(expert_name, device, c_in=n_feat, c_out=n_class, seq_len=window_size, bidirectional=expert_bidirectional),\n",
    "    'Ju': init_model(expert_name, device, c_in=n_feat, c_out=n_class, seq_len=window_size, bidirectional=expert_bidirectional),\n",
    "    'Si': init_model(expert_name, device, c_in=n_feat, c_out=n_class, seq_len=window_size, bidirectional=expert_bidirectional),\n",
    "}\n",
    "\n",
    "X_train_window_GaJuSi = torch.empty(0, window_size, n_feat).float()\n",
    "y_train_window_GaJuSi = torch.empty(0).long()\n",
    "study_labels_train_window_GaJuSi = torch.empty(0).long()\n",
    "\n",
    "X_val_window_GaJuSi = torch.empty(0, window_size, n_feat).float()\n",
    "y_val_window_GaJuSi = torch.empty(0).long()\n",
    "study_labels_val_window_GaJuSi = torch.empty(0).long()\n",
    "\n",
    "X_test_window_GaJuSi = torch.empty(0, window_size, n_feat).float()\n",
    "y_test_window_GaJuSi = torch.empty(0).long()\n",
    "study_labels_test_window_GaJuSi = torch.empty(0).long()\n",
    "\n",
    "X_val_person_GaJuSi = torch.empty(0, max_vgrf_data_len, n_feat).float()\n",
    "y_val_person_GaJuSi = torch.empty(0).long()\n",
    "# study_labels_val_person_GaJuSi = torch.empty(0).long()\n",
    "\n",
    "X_test_person_GaJuSi = torch.empty(0, max_vgrf_data_len, n_feat).float()\n",
    "y_test_person_GaJuSi = torch.empty(0).long()\n",
    "# study_labels_test_person_GaJuSi = torch.empty(0).long()\n",
    "\n",
    "for study, fold_i_dir in fold_i_dir_map.items():\n",
    "    # ================================================================================================\n",
    "    # EXPERT MODEL\n",
    "    # ================================================================================================\n",
    "    print_h(f\"EXPERT-{study} MODEL\", 96)\n",
    "\n",
    "    X_train_window = torch.tensor(np.load(os.path.join(fold_i_dir, f'X_train_window.npy'))).float()\n",
    "    y_train_window = torch.tensor(np.load(os.path.join(fold_i_dir, f'y_train_window.npy'))).long()\n",
    "    study_labels_train_window = torch.tensor([study_label_map[study]] * len(y_train_window)).long()\n",
    "    X_train_window_GaJuSi = torch.cat((X_train_window_GaJuSi, X_train_window), dim=0)\n",
    "    y_train_window_GaJuSi = torch.cat((y_train_window_GaJuSi, y_train_window), dim=0)\n",
    "    study_labels_train_window_GaJuSi = torch.cat((study_labels_train_window_GaJuSi, study_labels_train_window), dim=0)\n",
    "\n",
    "    X_val_window = torch.tensor(np.load(os.path.join(fold_i_dir, f'X_val_window.npy'))).float()\n",
    "    y_val_window = torch.tensor(np.load(os.path.join(fold_i_dir, f'y_val_window.npy'))).long()\n",
    "    study_labels_val_window = torch.tensor([study_label_map[study]] * len(y_val_window)).long()\n",
    "    X_val_window_GaJuSi = torch.cat((X_val_window_GaJuSi, X_val_window), dim=0)\n",
    "    y_val_window_GaJuSi = torch.cat((y_val_window_GaJuSi, y_val_window), dim=0)\n",
    "    study_labels_val_window_GaJuSi = torch.cat((study_labels_val_window_GaJuSi, study_labels_val_window), dim=0)\n",
    "\n",
    "    X_test_window = torch.tensor(np.load(os.path.join(fold_i_dir, f'X_test_window.npy'))).float()\n",
    "    y_test_window = torch.tensor(np.load(os.path.join(fold_i_dir, f'y_test_window.npy'))).long()\n",
    "    study_labels_test_window = torch.tensor([study_label_map[study]] * len(y_test_window)).long()\n",
    "    X_test_window_GaJuSi = torch.cat((X_test_window_GaJuSi, X_test_window), dim=0)\n",
    "    y_test_window_GaJuSi = torch.cat((y_test_window_GaJuSi, y_test_window), dim=0)\n",
    "    study_labels_test_window_GaJuSi = torch.cat((study_labels_test_window_GaJuSi, study_labels_test_window), dim=0)\n",
    "\n",
    "    X_val_person = torch.tensor(np.load(os.path.join(fold_i_dir, f'X_val_person.npy'))).float()\n",
    "    y_val_person = torch.tensor(np.load(os.path.join(fold_i_dir, f'y_val_person.npy'))).long()\n",
    "    X_val_person_GaJuSi = torch.cat((X_val_person_GaJuSi, X_val_person), dim=0)\n",
    "    y_val_person_GaJuSi = torch.cat((y_val_person_GaJuSi, y_val_person), dim=0)\n",
    "\n",
    "    X_test_person = torch.tensor(np.load(os.path.join(fold_i_dir, f'X_test_person.npy'))).float()\n",
    "    y_test_person = torch.tensor(np.load(os.path.join(fold_i_dir, f'y_test_person.npy'))).long()\n",
    "    X_test_person_GaJuSi = torch.cat((X_test_person_GaJuSi, X_test_person), dim=0)\n",
    "    y_test_person_GaJuSi = torch.cat((y_test_person_GaJuSi, y_test_person), dim=0)\n",
    "\n",
    "    train_window_dataset = TensorDataset(X_train_window, y_train_window)\n",
    "    val_window_dataset = TensorDataset(X_val_window, y_val_window)\n",
    "    test_window_dataset = TensorDataset(X_test_window, y_test_window)\n",
    "    \n",
    "    val_person_dataset = TensorDataset(X_val_person, y_val_person)\n",
    "    test_person_dataset = TensorDataset(X_test_person, y_test_person)\n",
    "\n",
    "    train_dataloader = DataLoader(train_window_dataset, batch_size=batch_size, shuffle=True)\n",
    "    val_dataloader = DataLoader(val_window_dataset, batch_size=batch_size, shuffle=False)\n",
    "    test_dataloader = DataLoader(test_window_dataset, batch_size=batch_size, shuffle=False)\n",
    "    \n",
    "    expert_model = expert_model_map[study]\n",
    "\n",
    "    # Load pretrained expert model\n",
    "    expert_model.load_state_dict(torch.load(expert_model_path_map[study], map_location=device))\n",
    "\n",
    "    # ================================================================\n",
    "    # EXPERT MODEL EVALUATION ON PERSON DATA BY MAJORITY VOTING\n",
    "    # ================================================================\n",
    "    print_h(\"EVALUATION ON PERSON DATA BY MAJORITY VOTING\", 64)\n",
    "    (\n",
    "        _, \n",
    "        acc_person_majority_voting, \n",
    "        f1_person_majority_voting, \n",
    "        precision_person_majority_voting, \n",
    "        recall_person_majority_voting, \n",
    "        cm_person_majority_voting, \n",
    "        *_\n",
    "    ) = eval_person_majority_voting(\n",
    "        expert_model, \n",
    "        test_person_dataset, \n",
    "        criterion=None, \n",
    "        average='weighted',\n",
    "        window_size=window_size, \n",
    "        debug=False,\n",
    "        seed=seed,\n",
    "    )\n",
    "    print(\"acc:\", acc_person_majority_voting)\n",
    "    print(\"f1:\", f1_person_majority_voting)\n",
    "    print(\"precision:\", precision_person_majority_voting)\n",
    "    print(\"recall:\", recall_person_majority_voting)\n",
    "    print(\"cm:\\n\", np.array(cm_person_majority_voting))\n",
    "    print()\n",
    "\n",
    "    expert_metrics[study] = update_metrics(expert_metrics[study], {\n",
    "        'acc': acc_person_majority_voting,\n",
    "        'f1': f1_person_majority_voting,\n",
    "        'precision': precision_person_majority_voting,\n",
    "        'recall': recall_person_majority_voting,\n",
    "        'cm': cm_person_majority_voting,\n",
    "    })\n",
    "\n",
    "# ================================================================================================\n",
    "# GATE MODEL\n",
    "# ================================================================================================\n",
    "print_h(\"GATE MODEL\", 96)\n",
    "\n",
    "# train_window_dataset_GaJuSi = TensorDataset(X_train_window_GaJuSi, y_train_window_GaJuSi)\n",
    "# val_window_dataset_GaJuSi = TensorDataset(X_val_window_GaJuSi, y_val_window_GaJuSi)\n",
    "# test_window_dataset_GaJuSi = TensorDataset(X_test_window_GaJuSi, y_test_window_GaJuSi)\n",
    "\n",
    "train_window_dataset_GaJuSi = TensorDataset(X_train_window_GaJuSi, study_labels_train_window_GaJuSi)\n",
    "val_window_dataset_GaJuSi = TensorDataset(X_val_window_GaJuSi, study_labels_val_window_GaJuSi)\n",
    "test_window_dataset_GaJuSi = TensorDataset(X_test_window_GaJuSi, study_labels_test_window_GaJuSi)\n",
    "\n",
    "train_dataloader_GaJuSi = DataLoader(train_window_dataset_GaJuSi, batch_size=batch_size, shuffle=True)\n",
    "val_dataloader_GaJuSi = DataLoader(val_window_dataset_GaJuSi, batch_size=batch_size, shuffle=False)\n",
    "test_dataloader_GaJuSi = DataLoader(test_window_dataset_GaJuSi, batch_size=batch_size, shuffle=False)\n",
    "\n",
    "gate_model = init_model(gate_name, device, c_in=n_feat, c_out=len(study_label_map.keys()), seq_len=window_size, bidirectional=gate_bidirectional, layers=gate_layers, ps=gate_ps)\n",
    "\n",
    "# Load pretrained gate model\n",
    "gate_model.load_state_dict(torch.load(gate_model_path, map_location=device))\n",
    "\n",
    "print_h(\"EVALUATION ON WINDOW DATA\", 64)\n",
    "\n",
    "_, acc_window, f1_window, precision_window, recall_window, cm_window = eval_window(gate_model, test_dataloader_GaJuSi, average='weighted')\n",
    "\n",
    "print(\"acc:\", acc_window)\n",
    "print(\"f1:\", f1_window)\n",
    "print(\"precision:\", precision_window)\n",
    "print(\"recall:\", recall_window)\n",
    "print(\"cm:\\n\", np.array(cm_window))\n",
    "print()\n",
    "\n",
    "gate_metrics = update_metrics(gate_metrics, {\n",
    "    'acc': acc_window,\n",
    "    'f1': f1_window,\n",
    "    'precision': precision_window,\n",
    "    'recall': recall_window,\n",
    "    'cm': cm_window,\n",
    "})\n",
    "\n",
    "print_h(\"MoE MODEL\", 96)\n",
    "\n",
    "val_person_dataset_GaJuSi = TensorDataset(X_val_person_GaJuSi, y_val_person_GaJuSi)\n",
    "test_person_dataset_GaJuSi = TensorDataset(X_test_person_GaJuSi, y_test_person_GaJuSi)\n",
    "\n",
    "moe_model = HardMoE(experts=expert_model_map.values(), gate=gate_model).to(device)\n",
    "\n",
    "print_h(\"EVALUATION ON PERSON DATA BY MAJORITY VOTING\", 64)\n",
    "(\n",
    "    _, \n",
    "    acc_person_majority_voting, \n",
    "    f1_person_majority_voting, \n",
    "    precision_person_majority_voting, \n",
    "    recall_person_majority_voting, \n",
    "    cm_person_majority_voting, \n",
    "    _, _, _, \n",
    "    fpr_multiclass_list_person_majority_voting, \n",
    "    tpr_multiclass_list_person_majority_voting, \n",
    "    roc_auc_multiclass_list_person_majority_voting, \n",
    "    roc_auc_multiclass_avg_person_majority_voting\n",
    ") = eval_person_majority_voting(\n",
    "    moe_model, \n",
    "    test_person_dataset_GaJuSi, \n",
    "    criterion=None, \n",
    "    average='weighted',\n",
    "    window_size=window_size, \n",
    "    debug=False,\n",
    "    seed=seed,\n",
    ")\n",
    "print(\"acc:\", acc_person_majority_voting)\n",
    "print(\"f1:\", f1_person_majority_voting)\n",
    "print(\"precision:\", precision_person_majority_voting)\n",
    "print(\"recall:\", recall_person_majority_voting)\n",
    "print(\"cm:\\n\", np.array(cm_person_majority_voting))\n",
    "print()\n",
    "\n",
    "moe_metrics = update_metrics(moe_metrics, {\n",
    "    'acc': acc_person_majority_voting,\n",
    "    'f1': f1_person_majority_voting,\n",
    "    'precision': precision_person_majority_voting,\n",
    "    'recall': recall_person_majority_voting,\n",
    "    'cm': cm_person_majority_voting,\n",
    "    'fpr_multiclass_list': fpr_multiclass_list_person_majority_voting, \n",
    "    'tpr_multiclass_list': tpr_multiclass_list_person_majority_voting, \n",
    "    'roc_auc_multiclass_list': roc_auc_multiclass_list_person_majority_voting,\n",
    "    'roc_auc_multiclass_avg': roc_auc_multiclass_avg_person_majority_voting,\n",
    "})\n",
    "\n",
    "# DEBUG: Test for only one fold\n",
    "# break"
   ]
  },
  {
   "cell_type": "markdown",
   "metadata": {},
   "source": [
    "## MoE Model Metrics"
   ]
  },
  {
   "cell_type": "code",
   "execution_count": 4,
   "metadata": {},
   "outputs": [
    {
     "name": "stdout",
     "output_type": "stream",
     "text": [
      "================================================================================================================================\n",
      "                                                       MoE MODEL METRICS                                                        \n",
      "================================================================================================================================\n",
      "{'acc': {'folds': [0.975], 'avg': 0.975, 'std': 0.0},\n",
      " 'f1': {'folds': [0.9750370370370369], 'avg': 0.9750370370370369, 'std': 0.0},\n",
      " 'precision': {'folds': [0.976923076923077],\n",
      "               'avg': 0.976923076923077,\n",
      "               'std': 0.0},\n",
      " 'recall': {'folds': [0.975], 'avg': 0.975, 'std': 0.0},\n",
      " 'cm': {'folds': [[[12, 0, 0, 0], [1, 13, 0, 0], [0, 0, 11, 0], [0, 0, 0, 3]]]},\n",
      " 'fpr_multiclass_list': {'folds': [[[0.0, 0.0, 0.0, 1.0],\n",
      "                                    [0.0,\n",
      "                                     0.0,\n",
      "                                     0.0,\n",
      "                                     0.07692307692307693,\n",
      "                                     0.07692307692307693,\n",
      "                                     1.0],\n",
      "                                    [0.0, 0.0, 0.0, 1.0],\n",
      "                                    [0.0, 0.0, 0.0, 1.0]]]},\n",
      " 'tpr_multiclass_list': {'folds': [[[0.0, 0.08333333333333333, 1.0, 1.0],\n",
      "                                    [0.0,\n",
      "                                     0.07142857142857142,\n",
      "                                     0.9285714285714286,\n",
      "                                     0.9285714285714286,\n",
      "                                     1.0,\n",
      "                                     1.0],\n",
      "                                    [0.0, 0.09090909090909091, 1.0, 1.0],\n",
      "                                    [0.0, 0.3333333333333333, 1.0, 1.0]]]},\n",
      " 'roc_auc_multiclass_list': {'folds': [[1.0, 0.9945054945054945, 1.0, 1.0]]},\n",
      " 'roc_auc_multiclass_avg': {'folds': [0.9986263736263736],\n",
      "                            'avg': 0.9986263736263736,\n",
      "                            'std': 0.0}}\n"
     ]
    }
   ],
   "source": [
    "print_h(\"MoE MODEL METRICS\", 128)\n",
    "save_metrics_to_json(moe_metrics, general_metrics_dir, '_moe.json')\n",
    "pprint(moe_metrics, sort_dicts=False)"
   ]
  },
  {
   "cell_type": "markdown",
   "metadata": {},
   "source": [
    "### MoE Model ROC Curves"
   ]
  },
  {
   "cell_type": "code",
   "execution_count": 5,
   "metadata": {},
   "outputs": [
    {
     "data": {
      "image/png": "[encoded data removed]",
      "text/plain": [
       "<Figure size 2000x400 with 1 Axes>"
      ]
     },
     "metadata": {},
     "output_type": "display_data"
    },
    {
     "name": "stdout",
     "output_type": "stream",
     "text": [
      "Saved in: evaluations/RNNInceptionTimeMoE_bidirectional_MLPGate_l2_Ga_k10_w500_s500_Ju_k10_w500_s500_w_anomaly_Si_k10_w500_s250_w_anomaly_fold_06_e20/roc_curves\n"
     ]
    }
   ],
   "source": [
    "plot_k_fold_roc_curves_multiclass_v2(\n",
    "    fpr_folds=moe_metrics['fpr_multiclass_list']['folds'],\n",
    "    tpr_folds=moe_metrics['tpr_multiclass_list']['folds'],\n",
    "    auc_folds=moe_metrics['roc_auc_multiclass_list']['folds'],\n",
    "    class_names=[\"Healthy\", \"S-2\", \"S-2.5\", \"S-3\"],\n",
    "    save_dir=roc_curves_dir,\n",
    "    i_folds=[i_fold],\n",
    ")"
   ]
  },
  {
   "cell_type": "markdown",
   "metadata": {},
   "source": [
    "### MoE Model Confusion Matrices"
   ]
  },
  {
   "cell_type": "code",
   "execution_count": 6,
   "metadata": {},
   "outputs": [
    {
     "data": {
      "image/png": "[encoded data removed]",
      "text/plain": [
       "<Figure size 2500x500 with 2 Axes>"
      ]
     },
     "metadata": {},
     "output_type": "display_data"
    },
    {
     "name": "stdout",
     "output_type": "stream",
     "text": [
      "Saved in: evaluations/RNNInceptionTimeMoE_bidirectional_MLPGate_l2_Ga_k10_w500_s500_Ju_k10_w500_s500_w_anomaly_Si_k10_w500_s250_w_anomaly_fold_06_e20/cm\n"
     ]
    }
   ],
   "source": [
    "plot_k_fold_cm(\n",
    "    moe_metrics['cm']['folds'], \n",
    "    class_names=[\"Healthy\", \"S-2\", \"S-2.5\", \"S-3\"],\n",
    "    save_dir=cm_dir,\n",
    "    figsize=(25,5),\n",
    "    i_folds=[i_fold],\n",
    ")"
   ]
  },
  {
   "cell_type": "markdown",
   "metadata": {},
   "source": [
    "## Gate Model Metrics"
   ]
  },
  {
   "cell_type": "code",
   "execution_count": 7,
   "metadata": {},
   "outputs": [
    {
     "name": "stdout",
     "output_type": "stream",
     "text": [
      "================================================================================================================================\n",
      "                                                       GATE MODEL METRICS                                                       \n",
      "================================================================================================================================\n",
      "\n",
      "{'acc': {'avg': 0.947190250507786, 'folds': [0.947190250507786], 'std': 0.0},\n",
      " 'cm': {'folds': [[[404, 4, 38], [15, 314, 14], [2, 5, 681]]]},\n",
      " 'f1': {'avg': 0.9468605256091722, 'folds': [0.9468605256091722], 'std': 0.0},\n",
      " 'precision': {'avg': 0.9482908486352515,\n",
      "               'folds': [0.9482908486352515],\n",
      "               'std': 0.0},\n",
      " 'recall': {'avg': 0.947190250507786, 'folds': [0.947190250507786], 'std': 0.0}}\n"
     ]
    }
   ],
   "source": [
    "print_h(\"GATE MODEL METRICS\", 128)\n",
    "save_metrics_to_json(gate_metrics, general_metrics_dir, 'gate.json')\n",
    "print()\n",
    "pprint(gate_metrics)"
   ]
  },
  {
   "cell_type": "markdown",
   "metadata": {},
   "source": [
    "## Expert-Ga Model Metrics"
   ]
  },
  {
   "cell_type": "code",
   "execution_count": 8,
   "metadata": {},
   "outputs": [
    {
     "name": "stdout",
     "output_type": "stream",
     "text": [
      "================================================================================================================================\n",
      "                                                    EXPERT-Ga MODEL METRICS                                                     \n",
      "================================================================================================================================\n",
      "\n",
      "{'acc': {'avg': 1.0, 'folds': [1.0], 'std': 0.0},\n",
      " 'cm': {'folds': [[[5, 0, 0, 0], [0, 6, 0, 0], [0, 0, 3, 0], [0, 0, 0, 2]]]},\n",
      " 'f1': {'avg': 1.0, 'folds': [1.0], 'std': 0.0},\n",
      " 'precision': {'avg': 1.0, 'folds': [1.0], 'std': 0.0},\n",
      " 'recall': {'avg': 1.0, 'folds': [1.0], 'std': 0.0}}\n"
     ]
    }
   ],
   "source": [
    "print_h(\"EXPERT-Ga MODEL METRICS\", 128)\n",
    "save_metrics_to_json(expert_metrics['Ga'], general_metrics_dir, 'Ga.json')\n",
    "print()\n",
    "pprint(expert_metrics['Ga'])"
   ]
  },
  {
   "cell_type": "markdown",
   "metadata": {},
   "source": [
    "## Expert-Ju Model Metrics"
   ]
  },
  {
   "cell_type": "code",
   "execution_count": 9,
   "metadata": {},
   "outputs": [
    {
     "name": "stdout",
     "output_type": "stream",
     "text": [
      "================================================================================================================================\n",
      "                                                    EXPERT-Ju MODEL METRICS                                                     \n",
      "================================================================================================================================\n",
      "\n",
      "{'acc': {'avg': 1.0, 'folds': [1.0], 'std': 0.0},\n",
      " 'cm': {'folds': [[[3, 0, 0, 0], [0, 4, 0, 0], [0, 0, 7, 0], [0, 0, 0, 1]]]},\n",
      " 'f1': {'avg': 1.0, 'folds': [1.0], 'std': 0.0},\n",
      " 'precision': {'avg': 1.0, 'folds': [1.0], 'std': 0.0},\n",
      " 'recall': {'avg': 1.0, 'folds': [1.0], 'std': 0.0}}\n"
     ]
    }
   ],
   "source": [
    "print_h(\"EXPERT-Ju MODEL METRICS\", 128)\n",
    "save_metrics_to_json(expert_metrics['Ju'], general_metrics_dir, 'Ju.json')\n",
    "print()\n",
    "pprint(expert_metrics['Ju'])"
   ]
  },
  {
   "cell_type": "markdown",
   "metadata": {},
   "source": [
    "## Expert-Si Model Metrics"
   ]
  },
  {
   "cell_type": "code",
   "execution_count": 10,
   "metadata": {},
   "outputs": [
    {
     "name": "stdout",
     "output_type": "stream",
     "text": [
      "================================================================================================================================\n",
      "                                                    EXPERT-Si MODEL METRICS                                                     \n",
      "================================================================================================================================\n",
      "\n",
      "{'acc': {'avg': 0.8888888888888888, 'folds': [0.8888888888888888], 'std': 0.0},\n",
      " 'cm': {'folds': [[[4, 0, 0, 0], [1, 3, 0, 0], [0, 0, 1, 0], [0, 0, 0, 0]]]},\n",
      " 'f1': {'avg': 0.8871252204585538, 'folds': [0.8871252204585538], 'std': 0.0},\n",
      " 'precision': {'avg': 0.911111111111111,\n",
      "               'folds': [0.911111111111111],\n",
      "               'std': 0.0},\n",
      " 'recall': {'avg': 0.8888888888888888,\n",
      "            'folds': [0.8888888888888888],\n",
      "            'std': 0.0}}\n"
     ]
    }
   ],
   "source": [
    "print_h(\"EXPERT-Si MODEL METRICS\", 128)\n",
    "save_metrics_to_json(expert_metrics['Si'], general_metrics_dir, 'Si.json')\n",
    "print()\n",
    "pprint(expert_metrics['Si'])"
   ]
  }
 ],
 "metadata": {
  "kernelspec": {
   "display_name": "alxxtexxr_py312",
   "language": "python",
   "name": "python3"
  },
  "language_info": {
   "codemirror_mode": {
    "name": "ipython",
    "version": 3
   },
   "file_extension": ".py",
   "mimetype": "text/x-python",
   "name": "python",
   "nbconvert_exporter": "python",
   "pygments_lexer": "ipython3",
   "version": "3.12.3"
  }
 },
 "nbformat": 4,
 "nbformat_minor": 2
}
