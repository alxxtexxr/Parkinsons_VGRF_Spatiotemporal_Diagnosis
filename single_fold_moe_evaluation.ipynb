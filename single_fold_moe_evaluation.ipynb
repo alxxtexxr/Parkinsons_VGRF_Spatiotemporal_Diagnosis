{
 "cells": [
  {
   "cell_type": "markdown",
   "metadata": {},
   "source": [
    "# Libraries"
   ]
  },
  {
   "cell_type": "code",
   "execution_count": 2,
   "metadata": {},
   "outputs": [],
   "source": [
    "import os\n",
    "import numpy as np\n",
    "import torch\n",
    "from torch.utils.data import TensorDataset, DataLoader\n",
    "from pprint import pprint\n",
    "\n",
    "from src.utils import (\n",
    "    # Old utils\n",
    "    print_h, eval_window, eval_person_majority_voting,\n",
    "\n",
    "    # New utils\n",
    "    set_seed, get_device, init_metrics, update_metrics, save_metrics_to_json,\n",
    "    plot_k_fold_roc_curves_multiclass_v2, plot_k_fold_cm,\n",
    ")\n",
    "from src.models import RNNInceptionTime, HardMoE"
   ]
  },
  {
   "cell_type": "markdown",
   "metadata": {},
   "source": [
    "# Config"
   ]
  },
  {
   "cell_type": "code",
   "execution_count": 3,
   "metadata": {},
   "outputs": [
    {
     "name": "stdout",
     "output_type": "stream",
     "text": [
      "Random seed: 69\n",
      "Device: mps\n"
     ]
    },
    {
     "ename": "FileNotFoundError",
     "evalue": "[Errno 2] No such file or directory: '../Parkinsons_VGRF_Spatiotemporal_Diagnosis_v0/outputs/train/RNNInceptionTime_Ga_baseline_20240911161249'",
     "output_type": "error",
     "traceback": [
      "\u001b[0;31m---------------------------------------------------------------------------\u001b[0m",
      "\u001b[0;31mFileNotFoundError\u001b[0m                         Traceback (most recent call last)",
      "Cell \u001b[0;32mIn[3], line 25\u001b[0m\n\u001b[1;32m     20\u001b[0m gate_model_dir \u001b[38;5;241m=\u001b[39m (\n\u001b[1;32m     21\u001b[0m     \u001b[38;5;124m'\u001b[39m\u001b[38;5;124m../Parkinsons_VGRF_Spatiotemporal_Diagnosis_v0/outputs/train/RNNInceptionTime_Gate_baseline_20240912075120\u001b[39m\u001b[38;5;124m'\u001b[39m \u001b[38;5;66;03m# On remote server\u001b[39;00m\n\u001b[1;32m     22\u001b[0m )\n\u001b[1;32m     24\u001b[0m \u001b[38;5;66;03m# Set up model path mappings and get number of folds (K-fold)\u001b[39;00m\n\u001b[0;32m---> 25\u001b[0m expert_model_path_map \u001b[38;5;241m=\u001b[39m {study: \u001b[38;5;28msorted\u001b[39m([model_dir_study\u001b[38;5;241m+\u001b[39m\u001b[38;5;124m'\u001b[39m\u001b[38;5;124m/\u001b[39m\u001b[38;5;124m'\u001b[39m\u001b[38;5;241m+\u001b[39mf \u001b[38;5;28;01mfor\u001b[39;00m f \u001b[38;5;129;01min\u001b[39;00m \u001b[43mos\u001b[49m\u001b[38;5;241;43m.\u001b[39;49m\u001b[43mlistdir\u001b[49m\u001b[43m(\u001b[49m\u001b[43mmodel_dir_study\u001b[49m\u001b[43m)\u001b[49m \u001b[38;5;28;01mif\u001b[39;00m f\u001b[38;5;241m.\u001b[39mendswith(\u001b[38;5;124m'\u001b[39m\u001b[38;5;124m.pth\u001b[39m\u001b[38;5;124m'\u001b[39m)])\n\u001b[1;32m     26\u001b[0m                          \u001b[38;5;28;01mfor\u001b[39;00m study, model_dir_study \u001b[38;5;129;01min\u001b[39;00m expert_model_dir_map\u001b[38;5;241m.\u001b[39mitems()}\n\u001b[1;32m     27\u001b[0m gate_model_path_map \u001b[38;5;241m=\u001b[39m \u001b[38;5;28msorted\u001b[39m([gate_model_dir\u001b[38;5;241m+\u001b[39m\u001b[38;5;124m'\u001b[39m\u001b[38;5;124m/\u001b[39m\u001b[38;5;124m'\u001b[39m\u001b[38;5;241m+\u001b[39mf \u001b[38;5;28;01mfor\u001b[39;00m f \u001b[38;5;129;01min\u001b[39;00m os\u001b[38;5;241m.\u001b[39mlistdir(gate_model_dir) \u001b[38;5;28;01mif\u001b[39;00m f\u001b[38;5;241m.\u001b[39mendswith(\u001b[38;5;124m'\u001b[39m\u001b[38;5;124m.pth\u001b[39m\u001b[38;5;124m'\u001b[39m)])\n\u001b[1;32m     28\u001b[0m \u001b[38;5;28;01massert\u001b[39;00m \u001b[38;5;28mlen\u001b[39m(\u001b[38;5;28mset\u001b[39m([\u001b[38;5;28mlen\u001b[39m(expert_model_path_study) \u001b[38;5;28;01mfor\u001b[39;00m expert_model_path_study \u001b[38;5;129;01min\u001b[39;00m expert_model_path_map\u001b[38;5;241m.\u001b[39mvalues()])) \u001b[38;5;241m==\u001b[39m \u001b[38;5;241m1\u001b[39m, \\\n\u001b[1;32m     29\u001b[0m     \u001b[38;5;124mf\u001b[39m\u001b[38;5;124m\"\u001b[39m\u001b[38;5;124mInconsistent number of folds across dataset studies: \u001b[39m\u001b[38;5;132;01m{\u001b[39;00m[\u001b[38;5;28mlen\u001b[39m(v)\u001b[38;5;250m \u001b[39m\u001b[38;5;28;01mfor\u001b[39;00m\u001b[38;5;250m \u001b[39mv\u001b[38;5;250m \u001b[39m\u001b[38;5;129;01min\u001b[39;00m\u001b[38;5;250m \u001b[39mexpert_model_path_map\u001b[38;5;241m.\u001b[39mvalues()]\u001b[38;5;132;01m}\u001b[39;00m\u001b[38;5;124m\"\u001b[39m\n",
      "\u001b[0;31mFileNotFoundError\u001b[0m: [Errno 2] No such file or directory: '../Parkinsons_VGRF_Spatiotemporal_Diagnosis_v0/outputs/train/RNNInceptionTime_Ga_baseline_20240911161249'"
     ]
    }
   ],
   "source": [
    "# Project config\n",
    "seed = 69\n",
    "set_seed(seed)\n",
    "device = get_device()\n",
    "print(\"Device:\", device)\n",
    "\n",
    "# Model config\n",
    "fold_i_dir_map = {\n",
    "    'Ga': 'datasets/preprocessed/Ga_k10_w500_s500_v20250430232239/fold_09',\n",
    "    'Ju': 'datasets/preprocessed/Ju_k10_w500_s500_v20250430232219/fold_09',\n",
    "    'Si': 'datasets/preprocessed/Si_k10_w500_s250_v20250430231926/fold_09',\n",
    "}\n",
    "expert_model_dir_map = {\n",
    "    'Ga': 'checkpoints/RNNInceptionTime_bidirectional_Ga_k10_w500_s500_fold_09_e1_v20250514220024/fold_09.pth',\n",
    "    'Ju': 'checkpoints/RNNInceptionTime_bidirectional_Ju_k10_w500_s500_fold_09_e1_v20250514220117/fold_09.pth',\n",
    "    'Si': 'checkpoints/RNNInceptionTime_bidirectional_Si_k10_w500_s250_fold_09_e1_v20250514220147/fold_09.pth'\n",
    "}\n",
    "gate_model_dir = 'checkpoints/MLPGate_l2_Ga_k10_w500_s500_Ju_k10_w500_s500_Si_k10_w500_s250_fold_09_e1_v20250514224321/fold_09.pth'\n",
    "\n",
    "# Set up model path mappings and get number of folds (K-fold)\n",
    "expert_model_path_map = {study: sorted([model_dir_study+'/'+f for f in os.listdir(model_dir_study) if f.endswith('.pth')])\n",
    "                         for study, model_dir_study in expert_model_dir_map.items()}\n",
    "gate_model_path_map = sorted([gate_model_dir+'/'+f for f in os.listdir(gate_model_dir) if f.endswith('.pth')])\n",
    "assert len(set([len(expert_model_path_study) for expert_model_path_study in expert_model_path_map.values()])) == 1, \\\n",
    "    f\"Inconsistent number of folds across dataset studies: {[len(v) for v in expert_model_path_map.values()]}\"\n",
    "k_fold = len(list(expert_model_path_map.values())[0])\n",
    "print(\"K-fold:\", k_fold)\n",
    "\n",
    "# Evaluation config\n",
    "k_fold = 10\n",
    "batch_size = 8\n",
    "n_feat = 16\n",
    "n_class = 4\n",
    "window_size = 500\n",
    "max_vgrf_data_len = 25_000\n",
    "general_metrics_dir = 'evaluations/RNNInceptionTimeMoE_' + gate_model_dir.rsplit('RNNInceptionTime_')[-1].split('_v')[0] + '/_general_metrics'\n",
    "cm_dir = 'evaluations/RNNInceptionTimeMoE_' + gate_model_dir.rsplit('RNNInceptionTime_')[-1].split('_v')[0] + '/cm'\n",
    "roc_curves_dir = 'evaluations/RNNInceptionTimeMoE_' + gate_model_dir.rsplit('RNNInceptionTime_')[-1].split('_v')[0] + '/roc_curves'\n",
    "\n",
    "print(\"Evaluation general metrics save directory:\", general_metrics_dir)\n",
    "print(\"Evaluation confusion matrix save directory:\", cm_dir)\n",
    "print(\"Evaluation ROC curves save directory:\", roc_curves_dir)"
   ]
  }
 ],
 "metadata": {
  "kernelspec": {
   "display_name": "alxxtexxr_py312",
   "language": "python",
   "name": "python3"
  },
  "language_info": {
   "codemirror_mode": {
    "name": "ipython",
    "version": 3
   },
   "file_extension": ".py",
   "mimetype": "text/x-python",
   "name": "python",
   "nbconvert_exporter": "python",
   "pygments_lexer": "ipython3",
   "version": "3.12.4"
  }
 },
 "nbformat": 4,
 "nbformat_minor": 2
}
